{
 "cells": [
  {
   "cell_type": "markdown",
   "id": "a68d9b2f",
   "metadata": {},
   "source": [
    "#Hello World on 2Qubit Bell State\n"
   ]
  },
  {
   "cell_type": "markdown",
   "id": "63a30126",
   "metadata": {},
   "source": [
    "#Step1: Map the problem to circuits and operators\n"
   ]
  }
 ],
 "metadata": {
  "language_info": {
   "name": "python"
  }
 },
 "nbformat": 4,
 "nbformat_minor": 5
}
