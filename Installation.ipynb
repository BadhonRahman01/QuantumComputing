{
 "cells": [
  {
   "cell_type": "code",
   "execution_count": 23,
   "id": "d1c493a0",
   "metadata": {},
   "outputs": [],
   "source": [
    "import qiskit"
   ]
  },
  {
   "cell_type": "code",
   "execution_count": 24,
   "id": "13e653b9",
   "metadata": {},
   "outputs": [
    {
     "data": {
      "text/plain": [
       "'2.0.0'"
      ]
     },
     "execution_count": 24,
     "metadata": {},
     "output_type": "execute_result"
    }
   ],
   "source": [
    "qiskit.__version__"
   ]
  },
  {
   "cell_type": "code",
   "execution_count": 25,
   "id": "5d0a6b5b",
   "metadata": {},
   "outputs": [],
   "source": [
    "# from qiskit_ibm_runtime import QiskitRuntimeService\n",
    "\n",
    "# service = QiskitRuntimeService(channel=\"ibm_quantum\", #ibm_cloud\n",
    "#                                token='abc')"
   ]
  },
  {
   "cell_type": "code",
   "execution_count": 26,
   "id": "85514b59",
   "metadata": {},
   "outputs": [],
   "source": [
    "# QiskitRuntimeService.save_account(channel='ibm_quantum',\n",
    "#                                   token='abc')"
   ]
  },
  {
   "cell_type": "code",
   "execution_count": 27,
   "id": "3c4bee95",
   "metadata": {},
   "outputs": [],
   "source": [
    "backend = service.backend(name='ibm_brisbane')\n"
   ]
  },
  {
   "cell_type": "code",
   "execution_count": 28,
   "id": "a18efb34",
   "metadata": {},
   "outputs": [
    {
     "data": {
      "text/plain": [
       "127"
      ]
     },
     "execution_count": 28,
     "metadata": {},
     "output_type": "execute_result"
    }
   ],
   "source": [
    "backend.num_qubits"
   ]
  },
  {
   "cell_type": "code",
   "execution_count": 29,
   "id": "0cd5b7ce",
   "metadata": {},
   "outputs": [
    {
     "data": {
      "text/plain": [
       "'1.1.105'"
      ]
     },
     "execution_count": 29,
     "metadata": {},
     "output_type": "execute_result"
    }
   ],
   "source": [
    "backend.backend_version"
   ]
  }
 ],
 "metadata": {
  "kernelspec": {
   "display_name": "cwq",
   "language": "python",
   "name": "python3"
  },
  "language_info": {
   "codemirror_mode": {
    "name": "ipython",
    "version": 3
   },
   "file_extension": ".py",
   "mimetype": "text/x-python",
   "name": "python",
   "nbconvert_exporter": "python",
   "pygments_lexer": "ipython3",
   "version": "3.12.9"
  }
 },
 "nbformat": 4,
 "nbformat_minor": 5
}
